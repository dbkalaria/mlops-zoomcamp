{
 "cells": [
  {
   "cell_type": "code",
   "execution_count": 1,
   "id": "0f9f9de3-7991-4f9c-94dc-855c7fff1099",
   "metadata": {},
   "outputs": [],
   "source": [
    "import pandas as pd\n",
    "from sklearn.feature_extraction import DictVectorizer\n",
    "from sklearn.linear_model import LinearRegression\n",
    "from sklearn.linear_model import Lasso\n",
    "from sklearn.linear_model import Ridge\n",
    "\n",
    "from sklearn.metrics import root_mean_squared_error"
   ]
  },
  {
   "cell_type": "code",
   "execution_count": 2,
   "id": "71d8dc01-2012-469b-a553-362b4118c899",
   "metadata": {},
   "outputs": [
    {
     "name": "stdout",
     "output_type": "stream",
     "text": [
      "Requirement already satisfied: pyarrow in /usr/local/python/3.12.1/lib/python3.12/site-packages (20.0.0)\n",
      "\n",
      "\u001b[1m[\u001b[0m\u001b[34;49mnotice\u001b[0m\u001b[1;39;49m]\u001b[0m\u001b[39;49m A new release of pip is available: \u001b[0m\u001b[31;49m25.0.1\u001b[0m\u001b[39;49m -> \u001b[0m\u001b[32;49m25.1.1\u001b[0m\n",
      "\u001b[1m[\u001b[0m\u001b[34;49mnotice\u001b[0m\u001b[1;39;49m]\u001b[0m\u001b[39;49m To update, run: \u001b[0m\u001b[32;49mpython3 -m pip install --upgrade pip\u001b[0m\n"
     ]
    }
   ],
   "source": [
    "!pip install pyarrow"
   ]
  },
  {
   "cell_type": "code",
   "execution_count": 3,
   "id": "58e5eae1-3741-483a-92a7-6bebf7340ec1",
   "metadata": {
    "scrolled": true
   },
   "outputs": [],
   "source": [
    "jan_yellow_df = pd.read_parquet('https://d37ci6vzurychx.cloudfront.net/trip-data/yellow_tripdata_2023-01.parquet')\n",
    "feb_yellow_df = pd.read_parquet('https://d37ci6vzurychx.cloudfront.net/trip-data/yellow_tripdata_2023-02.parquet')"
   ]
  },
  {
   "cell_type": "markdown",
   "id": "0a5293c4-46cd-4720-81ee-fbf139406b42",
   "metadata": {},
   "source": [
    "## Q1. Read the data for January. How many columns are there?"
   ]
  },
  {
   "cell_type": "code",
   "execution_count": 4,
   "id": "21e5b885-345e-4406-adc2-ea0d7cc64f70",
   "metadata": {},
   "outputs": [
    {
     "data": {
      "text/plain": [
       "19"
      ]
     },
     "execution_count": 4,
     "metadata": {},
     "output_type": "execute_result"
    }
   ],
   "source": [
    "len(jan_yellow_df.columns)"
   ]
  },
  {
   "cell_type": "markdown",
   "id": "886269a7-4105-429e-8074-8ee3b62c5fb8",
   "metadata": {},
   "source": [
    "## Q2. What's the standard deviation of the trips duration in January?"
   ]
  },
  {
   "cell_type": "code",
   "execution_count": 5,
   "id": "66332445-c53c-4260-ae18-2c4c2be7758a",
   "metadata": {},
   "outputs": [
    {
     "name": "stdout",
     "output_type": "stream",
     "text": [
      "Standard deviation of trip duration (in minutes): 42.59\n"
     ]
    }
   ],
   "source": [
    "jan_yellow_df.loc[:, 'tpep_pickup_datetime'] = pd.to_datetime(jan_yellow_df['tpep_pickup_datetime'])\n",
    "jan_yellow_df.loc[:, 'tpep_dropoff_datetime'] = pd.to_datetime(jan_yellow_df['tpep_dropoff_datetime'])\n",
    "\n",
    "jan_yellow_df.loc[:, 'duration'] = (jan_yellow_df['tpep_dropoff_datetime'] - jan_yellow_df['tpep_pickup_datetime']).dt.total_seconds() / 60\n",
    "\n",
    "std_duration = jan_yellow_df['duration'].std()\n",
    "print(f\"Standard deviation of trip duration (in minutes): {std_duration:.2f}\")"
   ]
  },
  {
   "cell_type": "markdown",
   "id": "3d511ae9-7e37-490f-afc0-09deb3d6ea71",
   "metadata": {},
   "source": [
    "## Q3. What fraction of the records left after you dropped the outliers?"
   ]
  },
  {
   "cell_type": "code",
   "execution_count": 6,
   "id": "ad2ea3cd-ec2b-472f-b98f-ef418b1cc4f8",
   "metadata": {},
   "outputs": [],
   "source": [
    "before_filter = len(jan_yellow_df)\n",
    "\n",
    "jan_yellow_df = jan_yellow_df[(jan_yellow_df['duration'] > 0) & (jan_yellow_df['duration'] < 60)]\n",
    "after_filter = len(jan_yellow_df)"
   ]
  },
  {
   "cell_type": "code",
   "execution_count": 7,
   "id": "64af7bfd-9619-4d2b-8bf9-d251111340d1",
   "metadata": {},
   "outputs": [
    {
     "data": {
      "text/plain": [
       "99.17104858994786"
      ]
     },
     "execution_count": 7,
     "metadata": {},
     "output_type": "execute_result"
    }
   ],
   "source": [
    "percentage = (after_filter/ before_filter) * 100\n",
    "percentage"
   ]
  },
  {
   "cell_type": "markdown",
   "id": "7692a8ae-0a7c-44bb-9343-57dfff78fb7b",
   "metadata": {},
   "source": [
    "## Q4. What's the dimensionality of this matrix (number of columns)?"
   ]
  },
  {
   "cell_type": "code",
   "execution_count": 9,
   "id": "eee2da94-f819-4db5-933f-d8434ea780f9",
   "metadata": {},
   "outputs": [
    {
     "name": "stdout",
     "output_type": "stream",
     "text": [
      "517\n"
     ]
    }
   ],
   "source": [
    "from sklearn.feature_extraction import DictVectorizer\n",
    "\n",
    "# Recast IDs as strings\n",
    "jan_yellow_df['PULocationID'] = jan_yellow_df['PULocationID'].astype(str)\n",
    "jan_yellow_df['DOLocationID'] = jan_yellow_df['DOLocationID'].astype(str)\n",
    "\n",
    "# Convert to list of dicts\n",
    "records = jan_yellow_df[['PULocationID', 'DOLocationID']].to_dict(orient='records')\n",
    "\n",
    "# Use sparse matrix\n",
    "dv = DictVectorizer(sparse=True)\n",
    "X_sparse = dv.fit_transform(records)\n",
    "\n",
    "print(X_sparse.shape[1])  # Number of features (i.e., one-hot encoded columns)\n",
    "\n"
   ]
  },
  {
   "cell_type": "markdown",
   "id": "e459f121-8626-483d-9e72-1146cb3d39f4",
   "metadata": {},
   "source": [
    "## Q5. What's the RMSE on train?"
   ]
  },
  {
   "cell_type": "code",
   "execution_count": 12,
   "id": "9a568c9e-506d-475f-a980-51e8ff871dd9",
   "metadata": {},
   "outputs": [
    {
     "name": "stdout",
     "output_type": "stream",
     "text": [
      "RMSE on training data: 7.92 minutes\n"
     ]
    }
   ],
   "source": [
    "from sklearn.linear_model import LinearRegression\n",
    "from sklearn.metrics import mean_squared_error\n",
    "import numpy as np\n",
    "\n",
    "y = jan_yellow_df['duration'].values\n",
    "\n",
    "model = LinearRegression()\n",
    "model.fit(X_sparse, y)\n",
    "\n",
    "y_pred = model.predict(X_sparse)\n",
    "\n",
    "mse = mean_squared_error(y, y_pred)\n",
    "\n",
    "rmse = np.sqrt(mse)\n",
    "print(f\"RMSE on training data: {rmse:.2f} minutes\")\n"
   ]
  },
  {
   "cell_type": "code",
   "execution_count": 15,
   "id": "e62c40d1-ac08-4d12-bdff-d6319f41ad4d",
   "metadata": {},
   "outputs": [],
   "source": [
    "## Q6. What's the RMSE on validation?"
   ]
  },
  {
   "cell_type": "code",
   "execution_count": 14,
   "id": "67f1f6fe-fc82-4d06-b706-aaed00de6fcb",
   "metadata": {},
   "outputs": [
    {
     "name": "stdout",
     "output_type": "stream",
     "text": [
      "RMSE on validation data (February): 9.04 minutes\n"
     ]
    }
   ],
   "source": [
    "# Step 1: Convert datetime columns\n",
    "feb_yellow_df.loc[:, 'tpep_pickup_datetime'] = pd.to_datetime(feb_yellow_df['tpep_pickup_datetime'])\n",
    "feb_yellow_df.loc[:, 'tpep_dropoff_datetime'] = pd.to_datetime(feb_yellow_df['tpep_dropoff_datetime'])\n",
    "\n",
    "# Step 2: Compute trip duration in minutes\n",
    "feb_yellow_df.loc[:, 'duration'] = (feb_yellow_df['tpep_dropoff_datetime'] - feb_yellow_df['tpep_pickup_datetime']).dt.total_seconds() / 60\n",
    "\n",
    "# Step 3: Filter out unreasonable durations\n",
    "feb_yellow_df = feb_yellow_df[(feb_yellow_df['duration'] > 0) & (feb_yellow_df['duration'] < 180)]\n",
    "\n",
    "# Step 4: Convert PULocationID and DOLocationID to string\n",
    "feb_yellow_df['PULocationID'] = feb_yellow_df['PULocationID'].astype(str)\n",
    "feb_yellow_df['DOLocationID'] = feb_yellow_df['DOLocationID'].astype(str)\n",
    "\n",
    "# Step 5: Transform features using the previously fitted DictVectorizer (no refit!)\n",
    "val_records = feb_yellow_df[['PULocationID', 'DOLocationID']].to_dict(orient='records')\n",
    "X_val = dv.transform(val_records)\n",
    "\n",
    "# Step 6: Get the target variable\n",
    "y_val = feb_yellow_df['duration'].values\n",
    "\n",
    "# Step 7: Predict using the trained model\n",
    "y_pred_val = model.predict(X_val)\n",
    "\n",
    "# Step 8: Compute RMSE\n",
    "from sklearn.metrics import mean_squared_error\n",
    "import numpy as np\n",
    "\n",
    "mse_val = mean_squared_error(y_val, y_pred_val)\n",
    "rmse_val = np.sqrt(mse_val)\n",
    "print(f\"RMSE on validation data (February): {rmse_val:.2f} minutes\")\n"
   ]
  },
  {
   "cell_type": "code",
   "execution_count": null,
   "id": "4fd4d47e-8f70-42f2-a5c9-6f76857c8132",
   "metadata": {},
   "outputs": [],
   "source": []
  }
 ],
 "metadata": {
  "kernelspec": {
   "display_name": "Python 3 (ipykernel)",
   "language": "python",
   "name": "python3"
  },
  "language_info": {
   "codemirror_mode": {
    "name": "ipython",
    "version": 3
   },
   "file_extension": ".py",
   "mimetype": "text/x-python",
   "name": "python",
   "nbconvert_exporter": "python",
   "pygments_lexer": "ipython3",
   "version": "3.12.1"
  }
 },
 "nbformat": 4,
 "nbformat_minor": 5
}
